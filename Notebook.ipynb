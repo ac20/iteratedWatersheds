{
 "cells": [
  {
   "cell_type": "markdown",
   "metadata": {},
   "source": [
    "# Iterated Watersheds\n",
    "\n",
    "In this notebook we aim to present a few results using the iterated watersheds algorithm. Please refer to the article for detailed explanation.\n",
    "\n",
    "All the helper functions are given in the file utils_IteratedWatersheds.py. See this for exact details of implementation. The datasets can be downloaded from the from the following links\n",
    "\n",
    "[1] Weizman Dataset - http://www.wisdom.weizmann.ac.il/~vision/Seg_Evaluation_DB/\n",
    "\n",
    "[2] Road Network Dataset - https://figshare.com/articles/Urban_Road_Network_Data/2061897"
   ]
  },
  {
   "cell_type": "code",
   "execution_count": 14,
   "metadata": {},
   "outputs": [
    {
     "name": "stdout",
     "output_type": "stream",
     "text": [
      "The raw code to generate all the results can be hidden/shown by clicking the below button!\n"
     ]
    },
    {
     "data": {
      "text/html": [
       "<script>\n",
       "code_show=true; \n",
       "function code_toggle() {\n",
       " if (code_show){\n",
       " $('div.input').hide();\n",
       " } else {\n",
       " $('div.input').show();\n",
       " }\n",
       " code_show = !code_show\n",
       "} \n",
       "$( document ).ready(code_toggle);\n",
       "</script>\n",
       "<form action=\"javascript:code_toggle()\"><input type=\"submit\" value=\"Click here to toggle on/off the raw code.\"></form>"
      ],
      "text/plain": [
       "<IPython.core.display.HTML object>"
      ]
     },
     "execution_count": 14,
     "metadata": {},
     "output_type": "execute_result"
    }
   ],
   "source": [
    "from IPython.display import HTML\n",
    "print(\"The raw code to generate all the results can be hidden/shown by clicking the below button!\")\n",
    "HTML('''<script>\n",
    "code_show=true; \n",
    "function code_toggle() {\n",
    " if (code_show){\n",
    " $('div.input').hide();\n",
    " } else {\n",
    " $('div.input').show();\n",
    " }\n",
    " code_show = !code_show\n",
    "} \n",
    "$( document ).ready(code_toggle);\n",
    "</script>\n",
    "<form action=\"javascript:code_toggle()\"><input type=\"submit\" value=\"Click here to toggle on/off the raw code.\"></form>''')"
   ]
  },
  {
   "cell_type": "code",
   "execution_count": 2,
   "metadata": {},
   "outputs": [],
   "source": [
    "%load_ext autoreload\n",
    "%autoreload 2\n",
    "\n",
    "import numpy as np\n",
    "from matplotlib import pyplot as plt\n",
    "import pandas as pd\n",
    "import time\n",
    "\n",
    "%matplotlib inline\n",
    "\n",
    "from utils_IteratedWatersheds import *"
   ]
  },
  {
   "cell_type": "markdown",
   "metadata": {},
   "source": [
    "## Results on Weizman 1-Object and 2-Object Datasets\n",
    "\n",
    "To visualize the results of the Iterated Watersheds, we use the image segmentation database for better understanding. Since, image segmentation databases have labelled ground truth, it makes it easier to validate a new algorithm. Here, we compare the Iterated Watersheds with Spectral clustering, Isoperimetric Partitioning and simple K-Means as well.\n",
    "\n",
    "The following tables, display the results."
   ]
  },
  {
   "cell_type": "code",
   "execution_count": null,
   "metadata": {},
   "outputs": [],
   "source": [
    "# Code to generate the results\n",
    "generate_data = generate_data_1Object()\n",
    "\n",
    "with open(\"./results.csv\", 'w') as f:\n",
    "    f.write(\"id,method,img_name,parameters,AMI,ARI,F,accuracy,time\")\n",
    "    f.write(\"\\n\")\n",
    "    count = 0\n",
    "    for img, gt, name in generate_data:\n",
    "\n",
    "        # Construct the Graph\n",
    "        s0, s1, s2 = img.shape\n",
    "        graph = img_to_graph(img, beta=5., which='dissimilarity')\n",
    "        xgrid, ygrid = np.meshgrid(np.arange(s0), np.arange(s1))\n",
    "        X = (np.vstack((xgrid.flatten(), ygrid.flatten())).transpose())\n",
    "\n",
    "        # Iterated Watersheds\n",
    "        for nClust in [2]:\n",
    "            for rep in range(20):\n",
    "                tic = time.time()\n",
    "                labels_IW, cost_history, centers = iterated_watershed(graph, X, number_clusters=nClust, max_iterations = 20 )\n",
    "                time_measure = time.time() - tic\n",
    "                AMI, ARI, F, acc = evaluate_output(labels_IW, gt)\n",
    "                param = \"nCluster=\"+str(nClust)+\"repeat=\"+str(rep)\n",
    "                f.write(\"{},{},{},{},{},{},{},{},{}\\n\".format(count,\"IteratedWatershed\",name,param,AMI,ARI,F,acc,time_measure))\n",
    "                count += 1\n",
    "\n",
    "        # Spectral Clustering\n",
    "        for nClust in [2]:\n",
    "            for beta in [1.,2.,3.,5.]:\n",
    "                tic = time.time()\n",
    "                labels_spectral = spectral_clustering(graph, n_clusters=nClust, beta_weight=beta, eps_weight=1e-6)\n",
    "                time_measure = time.time() - tic\n",
    "                AMI, ARI, F, acc = evaluate_output(labels_spectral, gt)\n",
    "                param = \"nCluster=\"+str(nClust)+\"beta=\"+str(beta)\n",
    "                f.write(\"{},{},{},{},{},{},{},{},{}\\n\".format(count,\"SpectralClustering\",name,param,AMI,ARI,F,acc,time_measure))\n",
    "                count += 1\n",
    "\n",
    "        # Isoperimetric Partitioning - Full\n",
    "        for beta in [1.,2., 3., 5.]:\n",
    "            tic = time.time()\n",
    "            labels_isoFull = isoperimetric_partitioning(graph, beta_weight=beta, eps_weight=1e-6,  which='full')\n",
    "            time_measure = time.time() - tic\n",
    "            AMI, ARI, F, acc = evaluate_output(labels_isoFull, gt)\n",
    "            param = \"beta=\"+str(beta)\n",
    "            f.write(\"{},{},{},{},{},{},{},{},{}\\n\".format(count,\"IsoFull\",name,param,AMI,ARI,F,acc,time_measure))\n",
    "            count += 1\n",
    "\n",
    "        # Isoperimetric Partitioning - Recursive\n",
    "        for beta in [1.,2., 3., 5.]:\n",
    "            tic = time.time()\n",
    "            labels_isoRecursive = isoperimetric_partitioning(graph, beta_weight=beta, eps_weight=1e-6,  which='recursive')\n",
    "            time_measure = time.time() - tic\n",
    "            AMI, ARI, F, acc = evaluate_output(labels_isoRecursive, gt)\n",
    "            param = \"beta=\"+str(beta)\n",
    "            f.write(\"{},{},{},{},{},{},{},{},{}\\n\".format(count,\"IsoRecursive\",name,param,AMI,ARI,F,acc,time_measure))\n",
    "            count += 1\n",
    "\n",
    "        # K-Means (Using img)\n",
    "        for nClust in [2]:\n",
    "            tic = time.time()\n",
    "            labels_kmeans = kmeans_adapted(img, n_clusters=nClust)\n",
    "            time_measure = time.time() - tic\n",
    "            AMI, ARI, F, acc = evaluate_output(labels_kmeans, gt)\n",
    "            param = \"nClust=\"+str(nClust)\n",
    "            f.write(\"{},{},{},{},{},{},{},{},{}\\n\".format(count,\"KMeans\",name,param,AMI,ARI,F,acc,time_measure))\n",
    "            count += 1"
   ]
  },
  {
   "cell_type": "code",
   "execution_count": null,
   "metadata": {},
   "outputs": [],
   "source": [
    "generate_data = generate_data_2Object()\n",
    "\n",
    "def _write(string):\n",
    "    with open(\"./results_2Obj.csv\", 'a') as f:\n",
    "        f.write(string)\n",
    "\n",
    "\n",
    "with open(\"./results_2Obj.csv\", 'w') as f:\n",
    "    f.write(\"id,method,img_name,parameters,AMI,ARI,F,accuracy,time\\n\")\n",
    "\n",
    "processes = []\n",
    "for img, gt, name in generate_data:\n",
    "    s0, s1, s2 = img.shape\n",
    "    graph = img_to_graph(img, beta=5., which='dissimilarity')\n",
    "    xgrid, ygrid = np.meshgrid(np.arange(s0), np.arange(s1))\n",
    "    X = (np.vstack((xgrid.flatten(), ygrid.flatten())).transpose())\n",
    "    count = 0\n",
    "    # Iterated Watersheds\n",
    "    for nClust in [3]:\n",
    "        for rep in range(20):\n",
    "            tic = time.time()\n",
    "            labels_IW, cost_history, centers = iterated_watershed(graph, X, number_clusters=nClust, max_iterations = 20 )\n",
    "            time_measure = time.time() - tic\n",
    "            AMI, ARI, F, acc = evaluate_output(labels_IW, gt)\n",
    "            param = \"nCluster=\"+str(nClust)+\"repeat=\"+str(rep)\n",
    "            _write(\"{},{},{},{},{},{},{},{},{}\\n\".format(count,\"IteratedWatershed\",name,param,AMI,ARI,F,acc,time_measure))\n",
    "            count += 1\n",
    "\n",
    "    # Spectral Clustering\n",
    "    for nClust in [3]:\n",
    "        for beta in [1.,2.,3.,5.]:\n",
    "            tic = time.time()\n",
    "            labels_spectral = spectral_clustering(graph, n_clusters=nClust, beta_weight=beta, eps_weight=1e-6)\n",
    "            time_measure = time.time() - tic\n",
    "            AMI, ARI, F, acc = evaluate_output(labels_spectral, gt)\n",
    "            param = \"nCluster=\"+str(nClust)+\"beta=\"+str(beta)\n",
    "            _write(\"{},{},{},{},{},{},{},{},{}\\n\".format(count,\"SpectralClustering\",name,param,AMI,ARI,F,acc,time_measure))\n",
    "            count += 1\n",
    "\n",
    "    # Isoperimetric Partitioning - Full\n",
    "    for beta in [1.,2., 3., 5.]:\n",
    "        tic = time.time()\n",
    "        labels_isoFull = isoperimetric_partitioning(graph, beta_weight=beta, eps_weight=1e-6,  which='full')\n",
    "        time_measure = time.time() - tic\n",
    "        AMI, ARI, F, acc = evaluate_output(labels_isoFull, gt)\n",
    "        param = \"beta=\"+str(beta)\n",
    "        _write(\"{},{},{},{},{},{},{},{},{}\\n\".format(count,\"IsoFull\",name,param,AMI,ARI,F,acc,time_measure))\n",
    "        count += 1\n",
    "\n",
    "    # Isoperimetric Partitioning - Recursive\n",
    "    for beta in [1.,2., 3., 5.]:\n",
    "        tic = time.time()\n",
    "        labels_isoRecursive = isoperimetric_partitioning(graph, beta_weight=beta, eps_weight=1e-6,  which='recursive')\n",
    "        time_measure = time.time() - tic\n",
    "        AMI, ARI, F, acc = evaluate_output(labels_isoRecursive, gt)\n",
    "        param = \"beta=\"+str(beta)\n",
    "        _write(\"{},{},{},{},{},{},{},{},{}\\n\".format(count,\"IsoRecursive\",name,param,AMI,ARI,F,acc,time_measure))\n",
    "        count += 1\n",
    "\n",
    "    # K-Means (Using img)\n",
    "    for nClust in [3]:\n",
    "        tic = time.time()\n",
    "        labels_kmeans = kmeans_adapted(img, n_clusters=nClust)\n",
    "        time_measure = time.time() - tic\n",
    "        AMI, ARI, F, acc = evaluate_output(labels_kmeans, gt)\n",
    "        param = \"nClust=\"+str(nClust)\n",
    "        _write(\"{},{},{},{},{},{},{},{},{}\\n\".format(count,\"KMeans\",name,param,AMI,ARI,F,acc,time_measure))\n",
    "        count += 1\n",
    "    \n",
    "\n",
    "\n",
    "print(\"Done..\")\n"
   ]
  },
  {
   "cell_type": "code",
   "execution_count": 9,
   "metadata": {},
   "outputs": [
    {
     "name": "stdout",
     "output_type": "stream",
     "text": [
      "---------------------------------\n",
      "   Weizman 1-Object Dataset\n",
      "---------------------------------\n"
     ]
    },
    {
     "data": {
      "text/html": [
       "<table>\n",
       "<tbody>\n",
       "<tr><td>Method            </td><td>AMI   </td><td>ARI   </td><td>F     </td><td>accuracy</td></tr>\n",
       "<tr><td>IteratedWatershed </td><td>0.2467</td><td>0.3126</td><td>0.7880</td><td>0.8329  </td></tr>\n",
       "<tr><td>SpectralClustering</td><td>0.1674</td><td>0.1568</td><td>0.6889</td><td>0.8697  </td></tr>\n",
       "<tr><td>IsoFull           </td><td>0.0712</td><td>0.0600</td><td>0.7772</td><td>0.7666  </td></tr>\n",
       "<tr><td>KMeans            </td><td>0.1811</td><td>0.2043</td><td>0.6684</td><td>0.8143  </td></tr>\n",
       "</tbody>\n",
       "</table>"
      ],
      "text/plain": [
       "<IPython.core.display.HTML object>"
      ]
     },
     "metadata": {},
     "output_type": "display_data"
    },
    {
     "name": "stdout",
     "output_type": "stream",
     "text": [
      "---------------------------------\n",
      "   Weizman 2-Object Dataset\n",
      "---------------------------------\n"
     ]
    },
    {
     "data": {
      "text/html": [
       "<table>\n",
       "<tbody>\n",
       "<tr><td>Method            </td><td>AMI   </td><td>ARI   </td><td>F     </td><td>accuracy</td></tr>\n",
       "<tr><td>IteratedWatershed </td><td>0.3599</td><td>0.3615</td><td>0.7497</td><td>0.8974  </td></tr>\n",
       "<tr><td>SpectralClustering</td><td>0.2716</td><td>0.2635</td><td>0.7576</td><td>0.8963  </td></tr>\n",
       "<tr><td>KMeans            </td><td>0.2417</td><td>0.2128</td><td>0.5893</td><td>0.8884  </td></tr>\n",
       "</tbody>\n",
       "</table>"
      ],
      "text/plain": [
       "<IPython.core.display.HTML object>"
      ]
     },
     "metadata": {},
     "output_type": "display_data"
    }
   ],
   "source": [
    "# Code to display the table\n",
    "\n",
    "import pandas as pd\n",
    "import numpy as np\n",
    "import tabulate\n",
    "\n",
    "colnames = \"id,method,img_name,parameters,AMI,ARI,F,accuracy,time\".split(',')\n",
    "data = pd.read_csv(\"./results_1Obj.csv\", names=colnames)\n",
    "\n",
    "dict_answer = {}\n",
    "for method in ['IteratedWatershed', 'SpectralClustering', 'IsoFull', 'IsoRecursive', 'KMeans']:\n",
    "    for measure in ['AMI', 'ARI', 'F', 'accuracy']:\n",
    "        dict_answer[method+measure] = []\n",
    "        \n",
    "\n",
    "for img in np.unique(data['img_name']):\n",
    "    for method in ['IteratedWatershed', 'SpectralClustering', 'IsoFull', 'IsoRecursive', 'KMeans']:\n",
    "        for measure in ['AMI', 'ARI', 'F', 'accuracy']:\n",
    "            ind = np.logical_and(data['method'] == method, data['img_name'] == img)\n",
    "            val = float(np.max(data[ind][measure]))\n",
    "            dict_answer[method+measure].append(val)\n",
    "            \n",
    "\n",
    "print(\"---------------------------------\")\n",
    "print(\"   Weizman 1-Object Dataset\")\n",
    "print(\"---------------------------------\")\n",
    "l = []\n",
    "l.append([\"Method\", \"AMI\", \"ARI\", \"F\", \"accuracy\"])\n",
    "for method in ['IteratedWatershed', 'SpectralClustering', 'IsoFull', 'KMeans']:\n",
    "    tmp = [method]\n",
    "    for measure in ['AMI', 'ARI', 'F', 'accuracy']:\n",
    "        m = np.nanmean(dict_answer[method+measure])\n",
    "        tmp.append(\"{:0.4f}\".format(m))\n",
    "    l.append(tmp)\n",
    "display(HTML(tabulate.tabulate(l, tablefmt='html')))\n",
    "\n",
    "\n",
    "colnames = \"id,method,img_name,parameters,AMI,ARI,F,accuracy,time\".split(',')\n",
    "data = pd.read_csv(\"./results_2Obj.csv\", names=colnames)\n",
    "\n",
    "dict_answer = {}\n",
    "for method in ['IteratedWatershed', 'SpectralClustering', 'IsoFull', 'IsoRecursive', 'KMeans']:\n",
    "    for measure in ['AMI', 'ARI', 'F', 'accuracy']:\n",
    "        dict_answer[method+measure] = []\n",
    "        \n",
    "\n",
    "for img in np.unique(data['img_name']):\n",
    "    for method in ['IteratedWatershed', 'SpectralClustering', 'IsoFull', 'IsoRecursive', 'KMeans']:\n",
    "        for measure in ['AMI', 'ARI', 'F', 'accuracy']:\n",
    "            ind = np.logical_and(data['method'] == method, data['img_name'] == img)\n",
    "            val = float(np.max(data[ind][measure]))\n",
    "            dict_answer[method+measure].append(val)\n",
    "            \n",
    "\n",
    "\n",
    "print(\"---------------------------------\")\n",
    "print(\"   Weizman 2-Object Dataset\")\n",
    "print(\"---------------------------------\")\n",
    "l = []\n",
    "l.append([\"Method\", \"AMI\", \"ARI\", \"F\", \"accuracy\"])\n",
    "for method in ['IteratedWatershed', 'SpectralClustering', 'KMeans']:\n",
    "    tmp = [method]\n",
    "    for measure in ['AMI', 'ARI', 'F', 'accuracy']:\n",
    "        m = np.nanmean(dict_answer[method+measure])\n",
    "        tmp.append(\"{:0.4f}\".format(m))\n",
    "    l.append(tmp)\n",
    "display(HTML(tabulate.tabulate(l, tablefmt='html')))\n"
   ]
  },
  {
   "cell_type": "markdown",
   "metadata": {},
   "source": [
    "## Results on Road Network Dataset"
   ]
  },
  {
   "cell_type": "code",
   "execution_count": null,
   "metadata": {},
   "outputs": [],
   "source": [
    "# Code to generate the results. Takes aroung 18 hours to generate the results\n",
    "import multiprocessing as mp\n",
    "import time\n",
    "\n",
    "tic = time.time()\n",
    "def _write(string):\n",
    "    with open(\"./results_RoadNetwork.csv\", 'a') as f:\n",
    "        f.write(string)\n",
    "    \n",
    "\n",
    "with open(\"./results_RoadNetwork.csv\", 'w') as f:\n",
    "    f.write(\"id,city,method,nClust,rep,cost\\n\")\n",
    "\n",
    "processes = []    \n",
    "for city in ['Mumbai', 'Hyderabad', 'Chennai', 'Bengaluru', 'Calcutta', 'Delhi']:\n",
    "    X, G = get_road_network_data(city)\n",
    "    for nClust in [3,6,9,12,15]:\n",
    "        for rep in range(30):\n",
    "            # Iterated Watershed\n",
    "            count = 0\n",
    "            labels, cost_history, centers = iterated_watershed(G, X, number_clusters=nClust, max_iterations=30)\n",
    "            _write(\"{},{},{},{},{},{}\\n\".format(count,city,'IteratedWatershed',nClust,rep,np.min(cost_history)))\n",
    "            count += 1\n",
    "\n",
    "            # K-Means\n",
    "            cost_kmeans, labels_kmeans = kmeans_on_roadNetwork(G, X,  nClusters=nClust)\n",
    "            _write(\"{},{},{},{},{},{}\\n\".format(count,city,'KMeans',nClust,rep,cost_kmeans))\n",
    "            count += 1\n",
    "\n",
    "            # Greedy K-Center\n",
    "            cost_kCenter, labels_kCenter = greedy_kCenter(G, X, n_clusters=nClust)\n",
    "            _write(\"{},{},{},{},{},{}\\n\".format(count,city,'KCenters',nClust,rep,cost_kCenter))\n",
    "\n",
    "    \n",
    "    print(\"Done in {} seconds....\".format(time.time()-tic))"
   ]
  },
  {
   "cell_type": "code",
   "execution_count": 13,
   "metadata": {},
   "outputs": [
    {
     "name": "stdout",
     "output_type": "stream",
     "text": [
      "-------------------------------\n",
      "       Mumbai    \n",
      "-------------------------------\n"
     ]
    },
    {
     "data": {
      "text/html": [
       "<table>\n",
       "<tbody>\n",
       "<tr><td>Number of Clusters</td><td>Iterated Watershed</td><td>KMeans  </td><td>% Improvement</td><td>KCenters </td><td>%Improvement</td></tr>\n",
       "<tr><td>3                 </td><td>75625.21          </td><td>85714.67</td><td>11.77        </td><td>129256.23</td><td>41.49       </td></tr>\n",
       "<tr><td>6                 </td><td>46552.73          </td><td>64684.32</td><td>28.03        </td><td>96220.56 </td><td>51.62       </td></tr>\n",
       "<tr><td>9                 </td><td>36549.42          </td><td>53381.05</td><td>31.53        </td><td>80014.19 </td><td>54.32       </td></tr>\n",
       "<tr><td>12                </td><td>31439.17          </td><td>45545.34</td><td>30.97        </td><td>69879.96 </td><td>55.01       </td></tr>\n",
       "<tr><td>15                </td><td>28973.69          </td><td>40430.70</td><td>28.34        </td><td>65174.44 </td><td>55.54       </td></tr>\n",
       "</tbody>\n",
       "</table>"
      ],
      "text/plain": [
       "<IPython.core.display.HTML object>"
      ]
     },
     "metadata": {},
     "output_type": "display_data"
    },
    {
     "name": "stdout",
     "output_type": "stream",
     "text": [
      "-------------------------------\n",
      "       Hyderabad    \n",
      "-------------------------------\n"
     ]
    },
    {
     "data": {
      "text/html": [
       "<table>\n",
       "<tbody>\n",
       "<tr><td>Number of Clusters</td><td>Iterated Watershed</td><td>KMeans  </td><td>% Improvement</td><td>KCenters </td><td>%Improvement</td></tr>\n",
       "<tr><td>3                 </td><td>70422.44          </td><td>98289.47</td><td>28.35        </td><td>150161.85</td><td>53.10       </td></tr>\n",
       "<tr><td>6                 </td><td>55801.81          </td><td>63029.52</td><td>11.47        </td><td>143362.81</td><td>61.08       </td></tr>\n",
       "<tr><td>9                 </td><td>47806.78          </td><td>51303.10</td><td>6.82         </td><td>139208.10</td><td>65.66       </td></tr>\n",
       "<tr><td>12                </td><td>42282.13          </td><td>52597.76</td><td>19.61        </td><td>122434.80</td><td>65.47       </td></tr>\n",
       "<tr><td>15                </td><td>38264.49          </td><td>46480.52</td><td>17.68        </td><td>111933.23</td><td>65.81       </td></tr>\n",
       "</tbody>\n",
       "</table>"
      ],
      "text/plain": [
       "<IPython.core.display.HTML object>"
      ]
     },
     "metadata": {},
     "output_type": "display_data"
    },
    {
     "name": "stdout",
     "output_type": "stream",
     "text": [
      "-------------------------------\n",
      "       Chennai    \n",
      "-------------------------------\n"
     ]
    },
    {
     "data": {
      "text/html": [
       "<table>\n",
       "<tbody>\n",
       "<tr><td>Number of Clusters</td><td>Iterated Watershed</td><td>KMeans  </td><td>% Improvement</td><td>KCenters</td><td>%Improvement</td></tr>\n",
       "<tr><td>3                 </td><td>49867.28          </td><td>83882.80</td><td>40.55        </td><td>82743.65</td><td>39.73       </td></tr>\n",
       "<tr><td>6                 </td><td>35734.64          </td><td>41781.25</td><td>14.47        </td><td>97727.77</td><td>63.43       </td></tr>\n",
       "<tr><td>9                 </td><td>30396.82          </td><td>35785.48</td><td>15.06        </td><td>77960.54</td><td>61.01       </td></tr>\n",
       "<tr><td>12                </td><td>26718.55          </td><td>31767.65</td><td>15.89        </td><td>66479.25</td><td>59.81       </td></tr>\n",
       "<tr><td>15                </td><td>24448.91          </td><td>27534.04</td><td>11.20        </td><td>63541.96</td><td>61.52       </td></tr>\n",
       "</tbody>\n",
       "</table>"
      ],
      "text/plain": [
       "<IPython.core.display.HTML object>"
      ]
     },
     "metadata": {},
     "output_type": "display_data"
    },
    {
     "name": "stdout",
     "output_type": "stream",
     "text": [
      "-------------------------------\n",
      "       Bengaluru    \n",
      "-------------------------------\n"
     ]
    },
    {
     "data": {
      "text/html": [
       "<table>\n",
       "<tbody>\n",
       "<tr><td>Number of Clusters</td><td>Iterated Watershed</td><td>KMeans   </td><td>% Improvement</td><td>KCenters </td><td>%Improvement</td></tr>\n",
       "<tr><td>3                 </td><td>125300.14         </td><td>219508.02</td><td>42.92        </td><td>241052.79</td><td>48.02       </td></tr>\n",
       "<tr><td>6                 </td><td>91360.04          </td><td>98072.17 </td><td>6.84         </td><td>183065.39</td><td>50.09       </td></tr>\n",
       "<tr><td>9                 </td><td>76429.72          </td><td>83139.10 </td><td>8.07         </td><td>191371.54</td><td>60.06       </td></tr>\n",
       "<tr><td>12                </td><td>65603.19          </td><td>79167.20 </td><td>17.13        </td><td>166675.36</td><td>60.64       </td></tr>\n",
       "<tr><td>15                </td><td>57498.55          </td><td>67810.40 </td><td>15.21        </td><td>160847.42</td><td>64.25       </td></tr>\n",
       "</tbody>\n",
       "</table>"
      ],
      "text/plain": [
       "<IPython.core.display.HTML object>"
      ]
     },
     "metadata": {},
     "output_type": "display_data"
    },
    {
     "name": "stdout",
     "output_type": "stream",
     "text": [
      "-------------------------------\n",
      "       Calcutta    \n",
      "-------------------------------\n"
     ]
    },
    {
     "data": {
      "text/html": [
       "<table>\n",
       "<tbody>\n",
       "<tr><td>Number of Clusters</td><td>Iterated Watershed</td><td>KMeans  </td><td>% Improvement</td><td>KCenters</td><td>%Improvement</td></tr>\n",
       "<tr><td>3                 </td><td>22084.11          </td><td>24136.89</td><td>8.50         </td><td>58609.46</td><td>62.32       </td></tr>\n",
       "<tr><td>6                 </td><td>15419.97          </td><td>16741.95</td><td>7.90         </td><td>58155.98</td><td>73.49       </td></tr>\n",
       "<tr><td>9                 </td><td>13414.80          </td><td>14720.62</td><td>8.87         </td><td>50962.84</td><td>73.68       </td></tr>\n",
       "<tr><td>12                </td><td>11541.40          </td><td>13365.42</td><td>13.65        </td><td>51258.80</td><td>77.48       </td></tr>\n",
       "<tr><td>15                </td><td>10297.36          </td><td>12508.15</td><td>17.67        </td><td>47098.97</td><td>78.14       </td></tr>\n",
       "</tbody>\n",
       "</table>"
      ],
      "text/plain": [
       "<IPython.core.display.HTML object>"
      ]
     },
     "metadata": {},
     "output_type": "display_data"
    },
    {
     "name": "stdout",
     "output_type": "stream",
     "text": [
      "-------------------------------\n",
      "       Delhi    \n",
      "-------------------------------\n"
     ]
    },
    {
     "data": {
      "text/html": [
       "<table>\n",
       "<tbody>\n",
       "<tr><td>Number of Clusters</td><td>Iterated Watershed</td><td>KMeans  </td><td>% Improvement</td><td>KCenters </td><td>%Improvement</td></tr>\n",
       "<tr><td>3                 </td><td>60419.45          </td><td>66272.17</td><td>8.83         </td><td>116508.68</td><td>48.14       </td></tr>\n",
       "<tr><td>6                 </td><td>43123.33          </td><td>51899.35</td><td>16.91        </td><td>86064.13 </td><td>49.89       </td></tr>\n",
       "<tr><td>9                 </td><td>34500.10          </td><td>44890.19</td><td>23.15        </td><td>74177.07 </td><td>53.49       </td></tr>\n",
       "<tr><td>12                </td><td>29953.21          </td><td>34897.00</td><td>14.17        </td><td>70639.21 </td><td>57.60       </td></tr>\n",
       "<tr><td>15                </td><td>26657.97          </td><td>35593.96</td><td>25.11        </td><td>63284.28 </td><td>57.88       </td></tr>\n",
       "</tbody>\n",
       "</table>"
      ],
      "text/plain": [
       "<IPython.core.display.HTML object>"
      ]
     },
     "metadata": {},
     "output_type": "display_data"
    }
   ],
   "source": [
    "import pandas as pd\n",
    "import numpy as np\n",
    "\n",
    "colnames = \"id,city,method,nClust,rep,cost\".split(\",\")\n",
    "data = pd.read_csv(\"./results_RoadNetwork.csv\")\n",
    "dict_answer = {}\n",
    "for city in ['Mumbai', 'Hyderabad', 'Chennai', 'Bengaluru', 'Calcutta', 'Delhi']:\n",
    "    for nClust in [3,6,9,12,15]:\n",
    "        for method in [\"IteratedWatershed\", \"KMeans\", \"KCenters\"]:\n",
    "            ind = np.logical_and(np.logical_and(data['city']==city, data['nClust']==nClust), data['method']==method)\n",
    "            dict_answer[city+str(nClust)+method] = float(np.nanmean(data[ind]['cost']))\n",
    "        a1, a2 = dict_answer[city+str(nClust)+\"IteratedWatershed\"], dict_answer[city+str(nClust)+\"KMeans\"]\n",
    "        a3 = dict_answer[city+str(nClust)+\"KCenters\"]\n",
    "        dict_answer[city+str(nClust)+\"percent\"+\"KMeans\"] = (a2 - a1)/a2\n",
    "        dict_answer[city+str(nClust)+\"percent\"+\"KCenters\"] = (a3 - a1)/a3\n",
    "        \n",
    "# print(\"City& Number Clusters& Iterated Watershed & KMeans & \\% Improvement & KCenters & \\% Improvement \\\\\\\\ \\\\hline\")            \n",
    "for city in ['Mumbai', 'Hyderabad', 'Chennai', 'Bengaluru', 'Calcutta', 'Delhi']:\n",
    "    print(\"-------------------------------\")\n",
    "    print(\"      \", city, \"   \")\n",
    "    print(\"-------------------------------\")\n",
    "    l = [[\"Number of Clusters\", \"Iterated Watershed\", \"KMeans\", \"% Improvement\", \"KCenters\", \"%Improvement\"]]\n",
    "    for nClust in [3,6,9,12,15]:\n",
    "        tmp = [str(nClust)]\n",
    "        for method in [\"IteratedWatershed\", \"KMeans\",\"KCenters\"]:\n",
    "            m = dict_answer[city+str(nClust)+method]\n",
    "            tmp.append(\"{:0.2f}\".format(m))\n",
    "            if method in [\"KMeans\",\"KCenters\"]:\n",
    "                m = dict_answer[city+str(nClust)+\"percent\"+method]*100\n",
    "                tmp.append(\"{:0.2f}\".format(m))\n",
    "        l.append(tmp)\n",
    "    display(HTML(tabulate.tabulate(l, tablefmt='html')))            \n"
   ]
  }
 ],
 "metadata": {
  "kernelspec": {
   "display_name": "Python 3",
   "language": "python",
   "name": "python3"
  },
  "language_info": {
   "codemirror_mode": {
    "name": "ipython",
    "version": 3
   },
   "file_extension": ".py",
   "mimetype": "text/x-python",
   "name": "python",
   "nbconvert_exporter": "python",
   "pygments_lexer": "ipython3",
   "version": "3.6.7"
  }
 },
 "nbformat": 4,
 "nbformat_minor": 2
}
